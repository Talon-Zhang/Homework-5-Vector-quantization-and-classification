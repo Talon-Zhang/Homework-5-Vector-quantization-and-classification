{
 "cells": [
  {
   "cell_type": "markdown",
   "metadata": {},
   "source": [
    "# Read Data"
   ]
  },
  {
   "cell_type": "code",
   "execution_count": 1,
   "metadata": {},
   "outputs": [],
   "source": [
    "import numpy as np\n",
    "import pandas as pd\n",
    "import os\n",
    "\n",
    "data_dict = {}\n",
    "skip = [\".DS_Store\", \"displayModel.m\", \"displayTrial.m\", \"MANUAL.txt\", \"README.txt\"]\n",
    "files = os.listdir(\"HMP_Dataset/\")\n",
    "for file_name in files:\n",
    "    if file_name not in skip:\n",
    "        path = \"HMP_Dataset/\" + file_name\n",
    "        files = os.listdir(path)\n",
    "        data = []\n",
    "        index = 0\n",
    "        for name in files:\n",
    "            tmp = pd.read_csv(path + \"/\" + name, sep=\" \", header=None).values\n",
    "            data = np.vstack([data, tmp]) if len(data) else tmp\n",
    "            data_dict[file_name + \"/\" + str(index)] = data\n",
    "            index += 1"
   ]
  },
  {
   "cell_type": "markdown",
   "metadata": {},
   "source": [
    "# Vector quantization "
   ]
  },
  {
   "cell_type": "code",
   "execution_count": 2,
   "metadata": {},
   "outputs": [],
   "source": [
    "import math\n",
    "\n",
    "# Cut and flatten signals \n",
    "def preprocessing_data_dict(data_dict):\n",
    "    preprocessed_data_dict = {}\n",
    "    sample_size = 32\n",
    "    for key in data_dict:\n",
    "        size = len(data_dict[key])\n",
    "        x = 0.5 # overlap parameter\n",
    "        cut = [data_dict[key][i:i+sample_size] for i in range(0, size, int(sample_size*x))]\n",
    "        filtered = [x for x in cut if len(x) == sample_size]\n",
    "        preprocessed_data_dict[key] = np.array([np.array([j for i in e for j in i]) for e in filtered])\n",
    "    return preprocessed_data_dict\n",
    "\n",
    "preprocessed_data_dict = preprocessing_data_dict(data_dict) \n"
   ]
  },
  {
   "cell_type": "code",
   "execution_count": 3,
   "metadata": {},
   "outputs": [],
   "source": [
    "data = []\n",
    "for key in preprocessed_data_dict:\n",
    "    data = np.vstack([data, np.array(preprocessed_data_dict[key])]) if len(data) else np.array(preprocessed_data_dict[key])\n",
    "    "
   ]
  },
  {
   "cell_type": "code",
   "execution_count": null,
   "metadata": {},
   "outputs": [
    {
     "name": "stdout",
     "output_type": "stream",
     "text": [
      "Starting clustering\n"
     ]
    }
   ],
   "source": [
    "from sklearn.cluster import KMeans\n",
    "\n",
    "\n",
    "y = []\n",
    "X = []\n",
    "label_dict = {}\n",
    "label_mapping = [\"Brush_teeth\", \"Climb_stairs\", \"Comb_hair\", \"Descend_stairs\", \"Drink_glass\", \"Eat_meat\", \"Eat_soup\", \"Getup_bed\", \"Liedown_bed\", \"Pour_water\", \"Sitdown_chair\", \"Standup_chair\", \"Use_telephone\", \"Walk\"]\n",
    "i = 0\n",
    "\n",
    "print \"Starting clustering\"\n",
    "kmeans = KMeans(n_clusters=480).fit(data)\n",
    "print \"End of clustering\"\n",
    "for key in preprocessed_data_dict:\n",
    "    if i % 10 == 0:\n",
    "        print i\n",
    "    k = re.sub(r'[^a-zA-Z_]+', '', key)\n",
    "    tmp = kmeans.predict(preprocessed_data_dict[key]) # transform to get a freq vector from each file\n",
    "    x = np.zeros(480)\n",
    "    for v in tmp:\n",
    "        x[v] += 1 \n",
    "    label_dict[k] = np.vstack([label_dict[k], np.array(x)]) if len(label_dict[k]) else np.array(x)\n",
    "    X.append(x)\n",
    "    y.append(label_mapping.index(k)) \n"
   ]
  },
  {
   "cell_type": "markdown",
   "metadata": {},
   "source": [
    "# Histogram representation"
   ]
  },
  {
   "cell_type": "code",
   "execution_count": null,
   "metadata": {},
   "outputs": [],
   "source": [
    "print label_dict.labels()"
   ]
  },
  {
   "cell_type": "code",
   "execution_count": null,
   "metadata": {},
   "outputs": [],
   "source": [
    "%matplotlib inline \n",
    "import matplotlib.pyplot as plt\n",
    "\n",
    "#vals = np.fromiter(vq_bylabel.itervalues(), dtype=float)\n",
    "#print vals\n",
    "for key in label_dict:\n",
    "   # print np.mean(vq_bylabel[key], axis=0)\n",
    "    plt.hist(np.mean(label_dict[key], axis=0), bins=40, alpha=0.7, rwidth=0.90, density=True)\n",
    "    plt.xlabel('Cluster labels')\n",
    "    plt.ylabel('Frequency')\n",
    "    plt.title(\"Histogram for \" + key)\n",
    "    plt.xticks(range(0, 481, 40))\n",
    "    plt.show()"
   ]
  },
  {
   "cell_type": "markdown",
   "metadata": {},
   "source": [
    "# Classification with random forest"
   ]
  },
  {
   "cell_type": "code",
   "execution_count": null,
   "metadata": {},
   "outputs": [],
   "source": [
    "from sklearn.model_selection import KFold\n",
    "from sklearn.ensemble import RandomForestClassifier\n",
    "\n",
    "kfolds = KFold(n_splits=3)\n",
    "avg_error_rate = 0\n",
    "for train_index, test_index in kfolds.split(X):\n",
    "    X_train, X_test = X[train_index], X[test_index]\n",
    "    y_train, y_test = y[train_index], y[test_index]\n",
    "    clf = RandomForestClassifier(n_estimators=100)\n",
    "    clf.fit(X_train, y_train)\n",
    "    error_rate = (clf.predict(X_test) != y_test).sum() / float(len(y_test))\n",
    "    avg_error_rate += error_rate\n",
    "avg_error_rate /= 3\n",
    "print avg_error_rate"
   ]
  },
  {
   "cell_type": "code",
   "execution_count": null,
   "metadata": {},
   "outputs": [],
   "source": []
  }
 ],
 "metadata": {
  "kernelspec": {
   "display_name": "Python 2",
   "language": "python",
   "name": "python2"
  },
  "language_info": {
   "codemirror_mode": {
    "name": "ipython",
    "version": 2
   },
   "file_extension": ".py",
   "mimetype": "text/x-python",
   "name": "python",
   "nbconvert_exporter": "python",
   "pygments_lexer": "ipython2",
   "version": "2.7.15"
  }
 },
 "nbformat": 4,
 "nbformat_minor": 2
}
